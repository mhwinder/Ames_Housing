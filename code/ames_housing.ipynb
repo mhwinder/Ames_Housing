{
 "cells": [
  {
   "cell_type": "markdown",
   "metadata": {},
   "source": [
    "# Ames Housing and Kaggle Data Challenge\n",
    "\n",
    "This project will create a model for evaluating the value of a house based on a number of features provided in the Ames property dataset."
   ]
  },
  {
   "cell_type": "code",
   "execution_count": 1,
   "metadata": {},
   "outputs": [],
   "source": [
    "# Import the libraries for the creation of the model\n",
    "import numpy as np\n",
    "import pandas as pd\n",
    "import matplotlib.pyplot as plt\n",
    "import seaborn as sns\n",
    "from sklearn.linear_model import LinearRegression\n",
    "from sklearn.linear_model import Ridge\n",
    "from sklearn.linear_model import Lasso\n",
    "from sklearn.model_selection import train_test_split, cross_val_score, GridSearchCV\n",
    "from sklearn.metrics import mean_squared_error\n",
    "from sklearn.preprocessing import StandardScaler"
   ]
  },
  {
   "cell_type": "markdown",
   "metadata": {},
   "source": [
    "## Initial Data Exploration"
   ]
  },
  {
   "cell_type": "code",
   "execution_count": 2,
   "metadata": {},
   "outputs": [],
   "source": [
    "ames = pd.read_csv('../datasets/train.csv')\n",
    "ames_test = pd.read_csv('../datasets/test.csv')"
   ]
  },
  {
   "cell_type": "code",
   "execution_count": 3,
   "metadata": {},
   "outputs": [
    {
     "data": {
      "text/html": [
       "<div>\n",
       "<style scoped>\n",
       "    .dataframe tbody tr th:only-of-type {\n",
       "        vertical-align: middle;\n",
       "    }\n",
       "\n",
       "    .dataframe tbody tr th {\n",
       "        vertical-align: top;\n",
       "    }\n",
       "\n",
       "    .dataframe thead th {\n",
       "        text-align: right;\n",
       "    }\n",
       "</style>\n",
       "<table border=\"1\" class=\"dataframe\">\n",
       "  <thead>\n",
       "    <tr style=\"text-align: right;\">\n",
       "      <th></th>\n",
       "      <th>Id</th>\n",
       "      <th>PID</th>\n",
       "      <th>MS SubClass</th>\n",
       "      <th>MS Zoning</th>\n",
       "      <th>Lot Frontage</th>\n",
       "      <th>Lot Area</th>\n",
       "      <th>Street</th>\n",
       "      <th>Alley</th>\n",
       "      <th>Lot Shape</th>\n",
       "      <th>Land Contour</th>\n",
       "      <th>...</th>\n",
       "      <th>Screen Porch</th>\n",
       "      <th>Pool Area</th>\n",
       "      <th>Pool QC</th>\n",
       "      <th>Fence</th>\n",
       "      <th>Misc Feature</th>\n",
       "      <th>Misc Val</th>\n",
       "      <th>Mo Sold</th>\n",
       "      <th>Yr Sold</th>\n",
       "      <th>Sale Type</th>\n",
       "      <th>SalePrice</th>\n",
       "    </tr>\n",
       "  </thead>\n",
       "  <tbody>\n",
       "    <tr>\n",
       "      <th>0</th>\n",
       "      <td>109</td>\n",
       "      <td>533352170</td>\n",
       "      <td>60</td>\n",
       "      <td>RL</td>\n",
       "      <td>NaN</td>\n",
       "      <td>13517</td>\n",
       "      <td>Pave</td>\n",
       "      <td>NaN</td>\n",
       "      <td>IR1</td>\n",
       "      <td>Lvl</td>\n",
       "      <td>...</td>\n",
       "      <td>0</td>\n",
       "      <td>0</td>\n",
       "      <td>NaN</td>\n",
       "      <td>NaN</td>\n",
       "      <td>NaN</td>\n",
       "      <td>0</td>\n",
       "      <td>3</td>\n",
       "      <td>2010</td>\n",
       "      <td>WD</td>\n",
       "      <td>130500</td>\n",
       "    </tr>\n",
       "    <tr>\n",
       "      <th>1</th>\n",
       "      <td>544</td>\n",
       "      <td>531379050</td>\n",
       "      <td>60</td>\n",
       "      <td>RL</td>\n",
       "      <td>43.0</td>\n",
       "      <td>11492</td>\n",
       "      <td>Pave</td>\n",
       "      <td>NaN</td>\n",
       "      <td>IR1</td>\n",
       "      <td>Lvl</td>\n",
       "      <td>...</td>\n",
       "      <td>0</td>\n",
       "      <td>0</td>\n",
       "      <td>NaN</td>\n",
       "      <td>NaN</td>\n",
       "      <td>NaN</td>\n",
       "      <td>0</td>\n",
       "      <td>4</td>\n",
       "      <td>2009</td>\n",
       "      <td>WD</td>\n",
       "      <td>220000</td>\n",
       "    </tr>\n",
       "    <tr>\n",
       "      <th>2</th>\n",
       "      <td>153</td>\n",
       "      <td>535304180</td>\n",
       "      <td>20</td>\n",
       "      <td>RL</td>\n",
       "      <td>68.0</td>\n",
       "      <td>7922</td>\n",
       "      <td>Pave</td>\n",
       "      <td>NaN</td>\n",
       "      <td>Reg</td>\n",
       "      <td>Lvl</td>\n",
       "      <td>...</td>\n",
       "      <td>0</td>\n",
       "      <td>0</td>\n",
       "      <td>NaN</td>\n",
       "      <td>NaN</td>\n",
       "      <td>NaN</td>\n",
       "      <td>0</td>\n",
       "      <td>1</td>\n",
       "      <td>2010</td>\n",
       "      <td>WD</td>\n",
       "      <td>109000</td>\n",
       "    </tr>\n",
       "    <tr>\n",
       "      <th>3</th>\n",
       "      <td>318</td>\n",
       "      <td>916386060</td>\n",
       "      <td>60</td>\n",
       "      <td>RL</td>\n",
       "      <td>73.0</td>\n",
       "      <td>9802</td>\n",
       "      <td>Pave</td>\n",
       "      <td>NaN</td>\n",
       "      <td>Reg</td>\n",
       "      <td>Lvl</td>\n",
       "      <td>...</td>\n",
       "      <td>0</td>\n",
       "      <td>0</td>\n",
       "      <td>NaN</td>\n",
       "      <td>NaN</td>\n",
       "      <td>NaN</td>\n",
       "      <td>0</td>\n",
       "      <td>4</td>\n",
       "      <td>2010</td>\n",
       "      <td>WD</td>\n",
       "      <td>174000</td>\n",
       "    </tr>\n",
       "    <tr>\n",
       "      <th>4</th>\n",
       "      <td>255</td>\n",
       "      <td>906425045</td>\n",
       "      <td>50</td>\n",
       "      <td>RL</td>\n",
       "      <td>82.0</td>\n",
       "      <td>14235</td>\n",
       "      <td>Pave</td>\n",
       "      <td>NaN</td>\n",
       "      <td>IR1</td>\n",
       "      <td>Lvl</td>\n",
       "      <td>...</td>\n",
       "      <td>0</td>\n",
       "      <td>0</td>\n",
       "      <td>NaN</td>\n",
       "      <td>NaN</td>\n",
       "      <td>NaN</td>\n",
       "      <td>0</td>\n",
       "      <td>3</td>\n",
       "      <td>2010</td>\n",
       "      <td>WD</td>\n",
       "      <td>138500</td>\n",
       "    </tr>\n",
       "  </tbody>\n",
       "</table>\n",
       "<p>5 rows × 81 columns</p>\n",
       "</div>"
      ],
      "text/plain": [
       "    Id        PID  MS SubClass MS Zoning  Lot Frontage  Lot Area Street Alley  \\\n",
       "0  109  533352170           60        RL           NaN     13517   Pave   NaN   \n",
       "1  544  531379050           60        RL          43.0     11492   Pave   NaN   \n",
       "2  153  535304180           20        RL          68.0      7922   Pave   NaN   \n",
       "3  318  916386060           60        RL          73.0      9802   Pave   NaN   \n",
       "4  255  906425045           50        RL          82.0     14235   Pave   NaN   \n",
       "\n",
       "  Lot Shape Land Contour  ... Screen Porch Pool Area Pool QC Fence  \\\n",
       "0       IR1          Lvl  ...            0         0     NaN   NaN   \n",
       "1       IR1          Lvl  ...            0         0     NaN   NaN   \n",
       "2       Reg          Lvl  ...            0         0     NaN   NaN   \n",
       "3       Reg          Lvl  ...            0         0     NaN   NaN   \n",
       "4       IR1          Lvl  ...            0         0     NaN   NaN   \n",
       "\n",
       "  Misc Feature Misc Val Mo Sold Yr Sold  Sale Type  SalePrice  \n",
       "0          NaN        0       3    2010        WD      130500  \n",
       "1          NaN        0       4    2009        WD      220000  \n",
       "2          NaN        0       1    2010        WD      109000  \n",
       "3          NaN        0       4    2010        WD      174000  \n",
       "4          NaN        0       3    2010        WD      138500  \n",
       "\n",
       "[5 rows x 81 columns]"
      ]
     },
     "execution_count": 3,
     "metadata": {},
     "output_type": "execute_result"
    }
   ],
   "source": [
    "ames.head()"
   ]
  },
  {
   "cell_type": "code",
   "execution_count": 4,
   "metadata": {},
   "outputs": [
    {
     "name": "stdout",
     "output_type": "stream",
     "text": [
      "<class 'pandas.core.frame.DataFrame'>\n",
      "RangeIndex: 2051 entries, 0 to 2050\n",
      "Data columns (total 81 columns):\n",
      " #   Column           Non-Null Count  Dtype  \n",
      "---  ------           --------------  -----  \n",
      " 0   Id               2051 non-null   int64  \n",
      " 1   PID              2051 non-null   int64  \n",
      " 2   MS SubClass      2051 non-null   int64  \n",
      " 3   MS Zoning        2051 non-null   object \n",
      " 4   Lot Frontage     1721 non-null   float64\n",
      " 5   Lot Area         2051 non-null   int64  \n",
      " 6   Street           2051 non-null   object \n",
      " 7   Alley            140 non-null    object \n",
      " 8   Lot Shape        2051 non-null   object \n",
      " 9   Land Contour     2051 non-null   object \n",
      " 10  Utilities        2051 non-null   object \n",
      " 11  Lot Config       2051 non-null   object \n",
      " 12  Land Slope       2051 non-null   object \n",
      " 13  Neighborhood     2051 non-null   object \n",
      " 14  Condition 1      2051 non-null   object \n",
      " 15  Condition 2      2051 non-null   object \n",
      " 16  Bldg Type        2051 non-null   object \n",
      " 17  House Style      2051 non-null   object \n",
      " 18  Overall Qual     2051 non-null   int64  \n",
      " 19  Overall Cond     2051 non-null   int64  \n",
      " 20  Year Built       2051 non-null   int64  \n",
      " 21  Year Remod/Add   2051 non-null   int64  \n",
      " 22  Roof Style       2051 non-null   object \n",
      " 23  Roof Matl        2051 non-null   object \n",
      " 24  Exterior 1st     2051 non-null   object \n",
      " 25  Exterior 2nd     2051 non-null   object \n",
      " 26  Mas Vnr Type     2029 non-null   object \n",
      " 27  Mas Vnr Area     2029 non-null   float64\n",
      " 28  Exter Qual       2051 non-null   object \n",
      " 29  Exter Cond       2051 non-null   object \n",
      " 30  Foundation       2051 non-null   object \n",
      " 31  Bsmt Qual        1996 non-null   object \n",
      " 32  Bsmt Cond        1996 non-null   object \n",
      " 33  Bsmt Exposure    1993 non-null   object \n",
      " 34  BsmtFin Type 1   1996 non-null   object \n",
      " 35  BsmtFin SF 1     2050 non-null   float64\n",
      " 36  BsmtFin Type 2   1995 non-null   object \n",
      " 37  BsmtFin SF 2     2050 non-null   float64\n",
      " 38  Bsmt Unf SF      2050 non-null   float64\n",
      " 39  Total Bsmt SF    2050 non-null   float64\n",
      " 40  Heating          2051 non-null   object \n",
      " 41  Heating QC       2051 non-null   object \n",
      " 42  Central Air      2051 non-null   object \n",
      " 43  Electrical       2051 non-null   object \n",
      " 44  1st Flr SF       2051 non-null   int64  \n",
      " 45  2nd Flr SF       2051 non-null   int64  \n",
      " 46  Low Qual Fin SF  2051 non-null   int64  \n",
      " 47  Gr Liv Area      2051 non-null   int64  \n",
      " 48  Bsmt Full Bath   2049 non-null   float64\n",
      " 49  Bsmt Half Bath   2049 non-null   float64\n",
      " 50  Full Bath        2051 non-null   int64  \n",
      " 51  Half Bath        2051 non-null   int64  \n",
      " 52  Bedroom AbvGr    2051 non-null   int64  \n",
      " 53  Kitchen AbvGr    2051 non-null   int64  \n",
      " 54  Kitchen Qual     2051 non-null   object \n",
      " 55  TotRms AbvGrd    2051 non-null   int64  \n",
      " 56  Functional       2051 non-null   object \n",
      " 57  Fireplaces       2051 non-null   int64  \n",
      " 58  Fireplace Qu     1051 non-null   object \n",
      " 59  Garage Type      1938 non-null   object \n",
      " 60  Garage Yr Blt    1937 non-null   float64\n",
      " 61  Garage Finish    1937 non-null   object \n",
      " 62  Garage Cars      2050 non-null   float64\n",
      " 63  Garage Area      2050 non-null   float64\n",
      " 64  Garage Qual      1937 non-null   object \n",
      " 65  Garage Cond      1937 non-null   object \n",
      " 66  Paved Drive      2051 non-null   object \n",
      " 67  Wood Deck SF     2051 non-null   int64  \n",
      " 68  Open Porch SF    2051 non-null   int64  \n",
      " 69  Enclosed Porch   2051 non-null   int64  \n",
      " 70  3Ssn Porch       2051 non-null   int64  \n",
      " 71  Screen Porch     2051 non-null   int64  \n",
      " 72  Pool Area        2051 non-null   int64  \n",
      " 73  Pool QC          9 non-null      object \n",
      " 74  Fence            400 non-null    object \n",
      " 75  Misc Feature     65 non-null     object \n",
      " 76  Misc Val         2051 non-null   int64  \n",
      " 77  Mo Sold          2051 non-null   int64  \n",
      " 78  Yr Sold          2051 non-null   int64  \n",
      " 79  Sale Type        2051 non-null   object \n",
      " 80  SalePrice        2051 non-null   int64  \n",
      "dtypes: float64(11), int64(28), object(42)\n",
      "memory usage: 1.3+ MB\n"
     ]
    }
   ],
   "source": [
    "ames.info()"
   ]
  },
  {
   "cell_type": "code",
   "execution_count": 5,
   "metadata": {},
   "outputs": [
    {
     "data": {
      "image/png": "[encoded data removed]",
      "text/plain": [
       "<Figure size 432x288 with 1 Axes>"
      ]
     },
     "metadata": {
      "needs_background": "light"
     },
     "output_type": "display_data"
    }
   ],
   "source": [
    "# A quick plot to identify any outliers. The readme document suggests some exist.\n",
    "plt.scatter(ames['Gr Liv Area'],ames['SalePrice']);"
   ]
  },
  {
   "cell_type": "code",
   "execution_count": 6,
   "metadata": {},
   "outputs": [],
   "source": [
    "# Remove the two outliers\n",
    "ames = ames[ames['Gr Liv Area'] < 4000]"
   ]
  },
  {
   "cell_type": "code",
   "execution_count": 7,
   "metadata": {},
   "outputs": [
    {
     "data": {
      "image/png": "[encoded data removed]",
      "text/plain": [
       "<Figure size 360x864 with 2 Axes>"
      ]
     },
     "metadata": {
      "needs_background": "light"
     },
     "output_type": "display_data"
    }
   ],
   "source": [
    "# This heatmap shows which numeric features correlate with the sale price of the property\n",
    "plt.figure(figsize=(5,12))\n",
    "sns.heatmap(ames.corr()[['SalePrice']], annot=True, vmin=-1, vmax=1, cmap=\"coolwarm\");"
   ]
  },
  {
   "cell_type": "markdown",
   "metadata": {},
   "source": [
    "## Data Cleaning\n",
    "\n",
    "I will make a function to process the data. It will convert textual features, and put reasonable values in places where data is missing. It will output only the features I believe are most significant to keep the data easy to use.\n",
    "\n",
    "The features included in the model:\n",
    "- Overall Quality\n",
    "- Year built\n",
    "- Year remodeled\n",
    "- Exter Qual\n",
    "- Bsmt Qual\n",
    "- Total Basement Square footage\n",
    "- 1st floor square footage\n",
    "- 2nd floor squarefootage\n",
    "- Above ground living area\n",
    "- Full bath + basement full bath + half bath count\n",
    "- Kitchen Quality\n",
    "- Total rooms above ground\n",
    "- Number of fireplaces\n",
    "- Garage Cars\n",
    "- Garage Area\n",
    "\n",
    "Additional features will be added for non-numeric data:\n",
    "- MS Subclass"
   ]
  },
  {
   "cell_type": "markdown",
   "metadata": {},
   "source": [
    "Many features are in text form but can be converted into a number. An example is exterior quality which is listed from Po for poor, up to Ex for excellent. The features I will convert are:\n",
    "- Exter Qual (5)\n",
    "- Exter Cond (5)\n",
    "- Bsmt Qual (5+NA)\n",
    "- Bsmt cond (5+NA)\n",
    "- HeatingQC (5)\n",
    "- Kitchen qual (5)\n",
    "- Garage qual (5+NA)\n",
    "- garage cond (5+NA)\n"
   ]
  },
  {
   "cell_type": "markdown",
   "metadata": {},
   "source": [
    "## Feature Engineering\n",
    "\n",
    "Several features are more significant than other features. Those features will have a second order term to reflect their significance. The process_ames function will add these features to the data.\n",
    "\n",
    "These features are:\n",
    "- Overall Quality\n",
    "- Above Ground Living Area\n",
    "- Exterior Quality\n",
    "- Kitchen Quality\n",
    "- All baths"
   ]
  },
  {
   "cell_type": "code",
   "execution_count": 8,
   "metadata": {},
   "outputs": [],
   "source": [
    "def process_ames(data):\n",
    "    \n",
    "    # I will use a map to reassign numeric values over the text values.\n",
    "    qual_dict = {'NA':0,\n",
    "                 'Po':1,\n",
    "                 'Fa':2,\n",
    "                 'TA':3,\n",
    "                 'Gd':4,\n",
    "                 'Ex':5}\n",
    "    \n",
    "    # Here I reassign the data for the above columns.\n",
    "    data['Exter Qual'] = data['Exter Qual'].map(qual_dict)\n",
    "    data['Exter Cond'] = data['Exter Cond'].map(qual_dict)\n",
    "    data['Bsmt Qual'] = data['Bsmt Qual'].map(qual_dict)\n",
    "    data['Bsmt Cond'] = data['Bsmt Cond'].map(qual_dict)\n",
    "    data['Heating QC'] = data['Heating QC'].map(qual_dict)\n",
    "    data['Kitchen Qual'] = data['Kitchen Qual'].map(qual_dict)\n",
    "    data['Garage Qual'] = data['Garage Qual'].map(qual_dict)\n",
    "    data['Garage Cond'] = data['Garage Cond'].map(qual_dict)\n",
    "    \n",
    "    # Create the all bath feature\n",
    "    data['All Bath'] = data['Full Bath'] + data['Half Bath'] + data['Bsmt Full Bath']\n",
    "    \n",
    "    # Cut down features to just this list:\n",
    "    my_features = ['Id',\n",
    "                   'MS SubClass',\n",
    "                   'Overall Qual',\n",
    "                   'Year Built',\n",
    "                   'Year Remod/Add',\n",
    "                   'Exter Qual',\n",
    "                   'Bsmt Qual',\n",
    "                   'Total Bsmt SF',\n",
    "                   '1st Flr SF',\n",
    "                   '2nd Flr SF',\n",
    "                   'Gr Liv Area',\n",
    "                   'All Bath',\n",
    "                   'Kitchen Qual',\n",
    "                   'TotRms AbvGrd',\n",
    "                   'Fireplaces',\n",
    "                   'Garage Cars',\n",
    "                   'Garage Area',\n",
    "                   'SalePrice']\n",
    "    \n",
    "    # This code accounts for the difference between the training and testing data\n",
    "    try:\n",
    "        data = data[my_features].copy()\n",
    "    except:\n",
    "        my_features.remove('SalePrice')\n",
    "        data = data[my_features].copy()\n",
    "        print('No SalePrice found.')\n",
    "\n",
    "    # This imputes zero for a few houses basement and garage values. Many houses lack these features.\n",
    "    data.replace(to_replace=np.nan, value=0, inplace=True)\n",
    "    \n",
    "    # Create squared features\n",
    "    data.loc[:,'Overall Qual 2'] = data['Overall Qual']**2\n",
    "    data.loc[:,'GLA 2'] = data['Gr Liv Area']**2\n",
    "    data.loc[:,'Exter Qual 2'] = data['Exter Qual']**2\n",
    "    \n",
    "    return data"
   ]
  },
  {
   "cell_type": "code",
   "execution_count": 9,
   "metadata": {},
   "outputs": [],
   "source": [
    "ames_clean = process_ames(ames)"
   ]
  },
  {
   "cell_type": "code",
   "execution_count": 10,
   "metadata": {},
   "outputs": [
    {
     "data": {
      "text/plain": [
       "Id                0\n",
       "MS SubClass       0\n",
       "Overall Qual      0\n",
       "Year Built        0\n",
       "Year Remod/Add    0\n",
       "Exter Qual        0\n",
       "Bsmt Qual         0\n",
       "Total Bsmt SF     0\n",
       "1st Flr SF        0\n",
       "2nd Flr SF        0\n",
       "Gr Liv Area       0\n",
       "All Bath          0\n",
       "Kitchen Qual      0\n",
       "TotRms AbvGrd     0\n",
       "Fireplaces        0\n",
       "Garage Cars       0\n",
       "Garage Area       0\n",
       "SalePrice         0\n",
       "Overall Qual 2    0\n",
       "GLA 2             0\n",
       "Exter Qual 2      0\n",
       "dtype: int64"
      ]
     },
     "execution_count": 10,
     "metadata": {},
     "output_type": "execute_result"
    }
   ],
   "source": [
    "ames_clean.isna().sum()"
   ]
  },
  {
   "cell_type": "markdown",
   "metadata": {},
   "source": [
    "## Create the Models"
   ]
  },
  {
   "cell_type": "markdown",
   "metadata": {},
   "source": [
    "Begin with **Linear Regression Model**,"
   ]
  },
  {
   "cell_type": "code",
   "execution_count": 11,
   "metadata": {},
   "outputs": [],
   "source": [
    "# Create X and y and one-hot encode \n",
    "X = ames_clean.drop(columns=['SalePrice','Id'])\n",
    "X = pd.get_dummies(data=X, columns=['MS SubClass'], drop_first=True)\n",
    "\n",
    "y = ames_clean['SalePrice']"
   ]
  },
  {
   "cell_type": "code",
   "execution_count": 12,
   "metadata": {},
   "outputs": [
    {
     "data": {
      "text/plain": [
       "0.8878964504350308"
      ]
     },
     "execution_count": 12,
     "metadata": {},
     "output_type": "execute_result"
    }
   ],
   "source": [
    "# Run a cross validtation score to see how we're doing\n",
    "lr = LinearRegression()\n",
    "cross_val_score(estimator=lr, X=X, y=y).mean()"
   ]
  },
  {
   "cell_type": "code",
   "execution_count": 13,
   "metadata": {},
   "outputs": [],
   "source": [
    "# Create train/test splits.\n",
    "X_train, X_test, y_train, y_test = train_test_split(\n",
    "    X,\n",
    "    y,\n",
    "    test_size=0.7,\n",
    "    random_state=42\n",
    ")"
   ]
  },
  {
   "cell_type": "code",
   "execution_count": 14,
   "metadata": {},
   "outputs": [
    {
     "data": {
      "text/plain": [
       "LinearRegression()"
      ]
     },
     "execution_count": 14,
     "metadata": {},
     "output_type": "execute_result"
    }
   ],
   "source": [
    "model_lr = LinearRegression()\n",
    "model_lr.fit(X_train, y_train)"
   ]
  },
  {
   "cell_type": "code",
   "execution_count": 15,
   "metadata": {},
   "outputs": [
    {
     "name": "stdout",
     "output_type": "stream",
     "text": [
      "Training r2: 0.8888953697327634\n",
      "Testing r2:  0.887361125797735\n",
      "Baseline r2: 0.0\n",
      "\n",
      "Training RMSE: 26842.084418131668\n",
      "Testing RMSE:  26420.663851881538\n",
      "Baseline RMSE: 78722.62642178997\n"
     ]
    }
   ],
   "source": [
    "# Print several metrics to evaluate model\n",
    "# r2 scores\n",
    "print(f'Training r2: {model_lr.score(X_train, y_train)}')\n",
    "print(f'Testing r2:  {model_lr.score(X_test, y_test)}')\n",
    "y_baseline = [y_test.mean() for _ in range(len(y_test))]\n",
    "print(f'Baseline r2: {model_lr.score(X_test, y_baseline)}')\n",
    "print()\n",
    "\n",
    "# RMSE values\n",
    "lr_train_RMSE = mean_squared_error(model_lr.predict(X_train), y_train, squared=False)\n",
    "lr_test_RMSE = mean_squared_error(model_lr.predict(X_test), y_test, squared=False)\n",
    "lr_base_RMSE = mean_squared_error(y_baseline, y_test, squared=False)\n",
    "print(f'Training RMSE: {lr_train_RMSE}')\n",
    "print(f'Testing RMSE:  {lr_test_RMSE}')\n",
    "print(f'Baseline RMSE: {lr_base_RMSE}')"
   ]
  },
  {
   "cell_type": "code",
   "execution_count": 16,
   "metadata": {},
   "outputs": [
    {
     "data": {
      "text/plain": [
       "0.887361125797735"
      ]
     },
     "execution_count": 16,
     "metadata": {},
     "output_type": "execute_result"
    }
   ],
   "source": [
    "model_lr.score(X_test, y_test)"
   ]
  },
  {
   "cell_type": "markdown",
   "metadata": {},
   "source": [
    "Next **Ridge Regression Model**: The data will need to be scaled."
   ]
  },
  {
   "cell_type": "code",
   "execution_count": 17,
   "metadata": {},
   "outputs": [],
   "source": [
    "# Scale the data\n",
    "ss = StandardScaler()\n",
    "ss.fit(X_train)\n",
    "Z_train = ss.transform(X_train)\n",
    "Z_test = ss.transform(X_test)"
   ]
  },
  {
   "cell_type": "code",
   "execution_count": 18,
   "metadata": {},
   "outputs": [],
   "source": [
    "# Do a Gridsearch to evauate best alpha\n",
    "Rg_params = {'alpha':np.logspace(-5,-1,500)}\n",
    "grid_Rg = GridSearchCV(estimator=Ridge(), param_grid=Rg_params, cv=5)\n",
    "grid_Rg.fit(Z_train, y_train);"
   ]
  },
  {
   "cell_type": "code",
   "execution_count": 19,
   "metadata": {},
   "outputs": [
    {
     "data": {
      "text/plain": [
       "{'alpha': 0.1}"
      ]
     },
     "execution_count": 19,
     "metadata": {},
     "output_type": "execute_result"
    }
   ],
   "source": [
    "grid_Rg.best_params_"
   ]
  },
  {
   "cell_type": "code",
   "execution_count": 20,
   "metadata": {},
   "outputs": [
    {
     "name": "stdout",
     "output_type": "stream",
     "text": [
      "Training r2: 0.8888850961603354\n",
      "Testing r2:  0.8874974904434481\n",
      "Baseline r2: 0.0\n",
      "\n",
      "Training RMSE: 26843.325400272624\n",
      "Testing RMSE:  26404.666108718662\n",
      "Baseline RMSE: 78722.62642178997\n"
     ]
    }
   ],
   "source": [
    "# Print several metrics to evaluate model\n",
    "# r2 scores\n",
    "print(f'Training r2: {grid_Rg.score(Z_train, y_train)}')\n",
    "print(f'Testing r2:  {grid_Rg.score(Z_test, y_test)}')\n",
    "print(f'Baseline r2: {grid_Rg.score(Z_test, y_baseline)}')\n",
    "print()\n",
    "\n",
    "# RMSE values\n",
    "Rg_train_RMSE = mean_squared_error(grid_Rg.predict(Z_train), y_train, squared=False)\n",
    "Rg_test_RMSE = mean_squared_error(grid_Rg.predict(Z_test), y_test, squared=False)\n",
    "print(f'Training RMSE: {Rg_train_RMSE}')\n",
    "print(f'Testing RMSE:  {Rg_test_RMSE}')\n",
    "print(f'Baseline RMSE: {lr_base_RMSE}')"
   ]
  },
  {
   "cell_type": "markdown",
   "metadata": {},
   "source": [
    "Next **LASSO Regression Model**:"
   ]
  },
  {
   "cell_type": "code",
   "execution_count": 22,
   "metadata": {},
   "outputs": [],
   "source": [
    "# Do a Gridsearch to evauate best alpha\n",
    "Ls_params = {'alpha':np.logspace(1,2,10)}\n",
    "grid_Ls = GridSearchCV(estimator=Lasso(max_iter=5000), param_grid=Rg_params, cv=5)\n",
    "grid_Ls.fit(Z_train, y_train);"
   ]
  },
  {
   "cell_type": "code",
   "execution_count": 23,
   "metadata": {},
   "outputs": [
    {
     "data": {
      "text/plain": [
       "{'alpha': 0.1}"
      ]
     },
     "execution_count": 23,
     "metadata": {},
     "output_type": "execute_result"
    }
   ],
   "source": [
    "grid_Ls.best_params_"
   ]
  },
  {
   "cell_type": "code",
   "execution_count": 24,
   "metadata": {},
   "outputs": [
    {
     "name": "stdout",
     "output_type": "stream",
     "text": [
      "Training r2: 0.8888953673197615\n",
      "Testing r2:  0.8873624593100089\n",
      "Baseline r2: 0.0\n",
      "\n",
      "Training RMSE: 26842.08470961367\n",
      "Testing RMSE:  26420.507456569263\n",
      "Baseline RMSE: 78722.62642178997\n"
     ]
    }
   ],
   "source": [
    "# Print several metrics to evaluate model\n",
    "# r2 scores\n",
    "print(f'Training r2: {grid_Ls.score(Z_train, y_train)}')\n",
    "print(f'Testing r2:  {grid_Ls.score(Z_test, y_test)}')\n",
    "print(f'Baseline r2: {grid_Ls.score(Z_test, y_baseline)}')\n",
    "print()\n",
    "\n",
    "# RMSE values\n",
    "Ls_train_RMSE = mean_squared_error(grid_Ls.predict(Z_train), y_train, squared=False)\n",
    "Ls_test_RMSE = mean_squared_error(grid_Ls.predict(Z_test), y_test, squared=False)\n",
    "print(f'Training RMSE: {Ls_train_RMSE}')\n",
    "print(f'Testing RMSE:  {Ls_test_RMSE}')\n",
    "print(f'Baseline RMSE: {lr_base_RMSE}')"
   ]
  },
  {
   "cell_type": "code",
   "execution_count": 25,
   "metadata": {},
   "outputs": [
    {
     "name": "stdout",
     "output_type": "stream",
     "text": [
      "Baseline r2: 0.0\n",
      "Linear r2:   0.887361125797735\n",
      "Ridge r2:    0.8874974904434481 << Closest to 1\n",
      "Lasso r2:    0.8873624593100089\n",
      "\n",
      "Baseline RMSE: 78722.62642178997\n",
      "Linear RMSE:   26420.663851881538\n",
      "Ridge   RMSE:  26404.666108718662  << Lowest Error\n",
      "LASSO   RMSE:  26420.507456569263\n"
     ]
    }
   ],
   "source": [
    "# Compare the 4 models with the testing data\n",
    "print(f'Baseline r2: {0.0000}')\n",
    "print(f'Linear r2:   {model_lr.score(X_test, y_test)}')\n",
    "print(f'Ridge r2:    {grid_Rg.score(Z_test, y_test)} << Closest to 1')\n",
    "print(f'Lasso r2:    {grid_Ls.score(Z_test, y_test)}')\n",
    "print()\n",
    "print(f'Baseline RMSE: {lr_base_RMSE}')\n",
    "print(f'Linear RMSE:   {lr_test_RMSE}')\n",
    "print(f'Ridge   RMSE:  {Rg_test_RMSE}  << Lowest Error')\n",
    "print(f'LASSO   RMSE:  {Ls_test_RMSE}')\n"
   ]
  },
  {
   "cell_type": "markdown",
   "metadata": {},
   "source": [
    "Each of the three models outperformed the baseline by a large margine. The linear model performed very similarly to the ridge and lasso models which suggests the model is not overfit and only benefits slightly from the regularization. The ridge model performs the best here, however it doen't do as well as the linear model in the Kaggle competition. The fireplace information also doesn't improve the result for the competition."
   ]
  },
  {
   "cell_type": "markdown",
   "metadata": {},
   "source": [
    "## Clean Testing Data\n",
    "\n",
    "The testing data is in a similar format to the training data but doen't include the sale price. The processing function has a feature to account for the different formatting."
   ]
  },
  {
   "cell_type": "code",
   "execution_count": 26,
   "metadata": {},
   "outputs": [
    {
     "name": "stdout",
     "output_type": "stream",
     "text": [
      "No SalePrice found.\n"
     ]
    }
   ],
   "source": [
    "# Clean ames testing data\n",
    "ames_test_clean = process_ames(ames_test)"
   ]
  },
  {
   "cell_type": "code",
   "execution_count": 27,
   "metadata": {},
   "outputs": [],
   "source": [
    "X_ames_test = pd.get_dummies(data=ames_test_clean.drop(columns='Id'), \n",
    "                             columns=['MS SubClass'], \n",
    "                             drop_first=True)"
   ]
  },
  {
   "cell_type": "code",
   "execution_count": 28,
   "metadata": {},
   "outputs": [],
   "source": [
    "# There are no MS SubClass_150 properties in the testing data so I need to toss in a column of zeros\n",
    "X_ames_test['MS SubClass_150'] = [0 for _ in range(len(X_ames_test))]"
   ]
  },
  {
   "cell_type": "code",
   "execution_count": 29,
   "metadata": {},
   "outputs": [],
   "source": [
    "# Scale the matrix for ridge model\n",
    "Z_ames_test = ss.transform(X_ames_test)"
   ]
  },
  {
   "cell_type": "code",
   "execution_count": 30,
   "metadata": {},
   "outputs": [],
   "source": [
    "submission = grid_Rg.predict(Z_ames_test)"
   ]
  },
  {
   "cell_type": "code",
   "execution_count": 31,
   "metadata": {},
   "outputs": [
    {
     "data": {
      "text/html": [
       "<div>\n",
       "<style scoped>\n",
       "    .dataframe tbody tr th:only-of-type {\n",
       "        vertical-align: middle;\n",
       "    }\n",
       "\n",
       "    .dataframe tbody tr th {\n",
       "        vertical-align: top;\n",
       "    }\n",
       "\n",
       "    .dataframe thead th {\n",
       "        text-align: right;\n",
       "    }\n",
       "</style>\n",
       "<table border=\"1\" class=\"dataframe\">\n",
       "  <thead>\n",
       "    <tr style=\"text-align: right;\">\n",
       "      <th></th>\n",
       "      <th>Id</th>\n",
       "      <th>SalePrice</th>\n",
       "    </tr>\n",
       "  </thead>\n",
       "  <tbody>\n",
       "    <tr>\n",
       "      <th>0</th>\n",
       "      <td>2658</td>\n",
       "      <td>125644.701282</td>\n",
       "    </tr>\n",
       "    <tr>\n",
       "      <th>1</th>\n",
       "      <td>2718</td>\n",
       "      <td>193402.743445</td>\n",
       "    </tr>\n",
       "    <tr>\n",
       "      <th>2</th>\n",
       "      <td>2414</td>\n",
       "      <td>207518.113140</td>\n",
       "    </tr>\n",
       "    <tr>\n",
       "      <th>3</th>\n",
       "      <td>1989</td>\n",
       "      <td>109743.924934</td>\n",
       "    </tr>\n",
       "    <tr>\n",
       "      <th>4</th>\n",
       "      <td>625</td>\n",
       "      <td>189063.299870</td>\n",
       "    </tr>\n",
       "  </tbody>\n",
       "</table>\n",
       "</div>"
      ],
      "text/plain": [
       "     Id      SalePrice\n",
       "0  2658  125644.701282\n",
       "1  2718  193402.743445\n",
       "2  2414  207518.113140\n",
       "3  1989  109743.924934\n",
       "4   625  189063.299870"
      ]
     },
     "execution_count": 31,
     "metadata": {},
     "output_type": "execute_result"
    }
   ],
   "source": [
    "# Columns must be formatted appropriatly or the submission will fail.\n",
    "submission = pd.DataFrame(submission, columns = ['SalePrice'])\n",
    "submission['Id'] = ames_test_clean['Id']\n",
    "submission = submission[['Id','SalePrice']]\n",
    "submission.head()"
   ]
  },
  {
   "cell_type": "code",
   "execution_count": 32,
   "metadata": {},
   "outputs": [],
   "source": [
    "# Write the submission data to a file. Change filename or the data will overwrite!\n",
    "# This code is commented out unless the output is explicitly needed\n",
    "\n",
    "#submission.to_csv('./kaggle_sub/submission_6.csv', index=False)"
   ]
  },
  {
   "cell_type": "markdown",
   "metadata": {},
   "source": [
    "## Explore Fireplace related data\n",
    "\n",
    "Data Science question: Is a fireplace a good investment in the value of your property?"
   ]
  },
  {
   "cell_type": "code",
   "execution_count": 33,
   "metadata": {},
   "outputs": [],
   "source": [
    "# I create a new DataFrame to keep the original unaltered\n",
    "ames_fire = ames"
   ]
  },
  {
   "cell_type": "code",
   "execution_count": 34,
   "metadata": {},
   "outputs": [],
   "source": [
    "# Create a column mapping fireplace count to colors\n",
    "fcolors =  {0:'black', 1:'red', 2:'orange', 3:'yellow', 4:'blue'}\n",
    "ames_fire['fcolor'] = ames_fire['Fireplaces'].map(fcolors)"
   ]
  },
  {
   "cell_type": "code",
   "execution_count": 35,
   "metadata": {},
   "outputs": [
    {
     "data": {
      "image/png": "[encoded data removed]",
      "text/plain": [
       "<Figure size 576x288 with 1 Axes>"
      ]
     },
     "metadata": {
      "needs_background": "light"
     },
     "output_type": "display_data"
    }
   ],
   "source": [
    "# I didin't use this figure, but I really like how it looks\n",
    "plt.figure(figsize=(8,4))\n",
    "\n",
    "plt.scatter(ames_fire['Gr Liv Area'], ames_fire['SalePrice'], color=ames_fire['fcolor'], s=2)\n",
    "plt.xlabel('Square Footage')\n",
    "plt.ylabel('Sale Price');"
   ]
  },
  {
   "cell_type": "markdown",
   "metadata": {},
   "source": [
    "This figure shows house square footage vs sale price. The color of the dot relates to the quantity of fireplaces. Black is 0 fireplaces, then red, orange yellow and blue in increasing number of fireplaces. The figure has more fireplaces in the top right where there are larger and more expensive houses."
   ]
  },
  {
   "cell_type": "code",
   "execution_count": 36,
   "metadata": {},
   "outputs": [
    {
     "data": {
      "image/png": "[encoded data removed]",
      "text/plain": [
       "<Figure size 864x720 with 1 Axes>"
      ]
     },
     "metadata": {
      "needs_background": "light"
     },
     "output_type": "display_data"
    }
   ],
   "source": [
    "# Create figure of Fireplaces vs Sale Price\n",
    "plt.figure(figsize=(12,10))\n",
    "plt.scatter(ames_fire['Fireplaces'], ames_fire['SalePrice']);\n",
    "plt.ylabel('Sale Price (USD)', size = 20)\n",
    "plt.xlabel('Number of Fireplaces', size = 20)\n",
    "#plt.title('Number of Fireplaces vs Sale Price', size = 24)\n",
    "plt.yticks(size=16)\n",
    "plt.xticks(range(5), size=16);\n",
    "\n",
    "# Output the figure as an image file.\n",
    "plt.savefig(\"../images/fireplace_vs_saleprice.png\")"
   ]
  },
  {
   "cell_type": "markdown",
   "metadata": {},
   "source": [
    "This figure shows number of fireplaces vs sale price. The correlation isn't entirely clear but a vague positive slope does exist. There is one crazy house from the 70's that has 4 fireplaces. I like that the figure has a big gap between 0 and 1 fireplaces at high sale price."
   ]
  },
  {
   "cell_type": "code",
   "execution_count": 37,
   "metadata": {},
   "outputs": [],
   "source": [
    "# Here I convert a text column into a numeric column similar to the processing function.\n",
    "qual_dict = {'NA':0,'Po':1,'Fa':2,'TA':3,'Gd':4,'Ex':5}\n",
    "ames_fire['Fireplace Qu'] = ames_fire['Fireplace Qu'].map(qual_dict)"
   ]
  },
  {
   "cell_type": "code",
   "execution_count": 38,
   "metadata": {},
   "outputs": [],
   "source": [
    "# Here I create a column called isFire. I identify houses with fireplaces \n",
    "# that more closely fit my descriptions of fireplaces in the presentation.\n",
    "ames_fire['isFire'] = (ames_fire['Fireplace Qu'] > 2).astype(int)"
   ]
  },
  {
   "cell_type": "code",
   "execution_count": 39,
   "metadata": {},
   "outputs": [
    {
     "data": {
      "text/plain": [
       "Bedroom AbvGr  isFire\n",
       "0              0         177653.000000\n",
       "               1         335500.000000\n",
       "1              0         108645.555556\n",
       "               1         250459.717949\n",
       "2              0         128852.533923\n",
       "               1         224060.450980\n",
       "3              0         154147.189003\n",
       "               1         210021.704762\n",
       "4              0         142102.207921\n",
       "               1         260499.981707\n",
       "5              0         141316.666667\n",
       "               1         252853.217391\n",
       "6              0         143033.600000\n",
       "               1         269500.000000\n",
       "8              0         200000.000000\n",
       "Name: SalePrice, dtype: float64"
      ]
     },
     "execution_count": 39,
     "metadata": {},
     "output_type": "execute_result"
    }
   ],
   "source": [
    "# This crates a table that shows the mean sale price of several catagories\n",
    "ames_fire.groupby(by=['Bedroom AbvGr','isFire'])['SalePrice'].mean()"
   ]
  },
  {
   "cell_type": "code",
   "execution_count": 40,
   "metadata": {},
   "outputs": [
    {
     "data": {
      "text/plain": [
       "[335500.0,\n",
       " 250459.71794871794,\n",
       " 224060.45098039217,\n",
       " 210021.70476190475,\n",
       " 260499.98170731709,\n",
       " 252853.21739130435,\n",
       " 269500.0]"
      ]
     },
     "execution_count": 40,
     "metadata": {},
     "output_type": "execute_result"
    }
   ],
   "source": [
    "# This Extracts the info from the above table\n",
    "bar_sm = list(ames_fire[ames_fire['isFire'] == 0].groupby(by='Bedroom AbvGr')['SalePrice'].mean())\n",
    "bar_big = list(ames_fire[ames_fire['isFire'] == 1].groupby(by='Bedroom AbvGr')['SalePrice'].mean())\n",
    "bar_big"
   ]
  },
  {
   "cell_type": "code",
   "execution_count": 41,
   "metadata": {},
   "outputs": [
    {
     "data": {
      "text/plain": [
       "[177653.0,\n",
       " 108645.55555555556,\n",
       " 128852.53392330384,\n",
       " 154147.18900343642,\n",
       " 142102.20792079208,\n",
       " 141316.66666666666]"
      ]
     },
     "execution_count": 41,
     "metadata": {},
     "output_type": "execute_result"
    }
   ],
   "source": [
    "bar_sm[:-2]"
   ]
  },
  {
   "cell_type": "code",
   "execution_count": 42,
   "metadata": {},
   "outputs": [
    {
     "data": {
      "image/png": "[encoded data removed]",
      "text/plain": [
       "<Figure size 720x576 with 1 Axes>"
      ]
     },
     "metadata": {
      "needs_background": "light"
     },
     "output_type": "display_data"
    }
   ],
   "source": [
    "# Creat a very good looking bar plot of bedrooms and fireplaces vs price\n",
    "\n",
    "# Graph style shamelessly stolen from:\n",
    "# https://python-graph-gallery.com/11-grouped-barplot/\n",
    "\n",
    "# set width of bar\n",
    "barWidth = 0.35\n",
    "\n",
    "# List for labelling the plot\n",
    "firelabel =['No Fireplace', 'Fireplace']\n",
    " \n",
    "# set height of bar\n",
    "# We need to remove one 7 room house because of lack of data \n",
    "sm = bar_sm[:-1]\n",
    "big = bar_big\n",
    " \n",
    "# Set position of bar on X axis\n",
    "rbig = [x + barWidth*1.5 for x in range(7)]\n",
    "rsm = [x + barWidth*0.5 for x in range(7)]\n",
    " \n",
    "# Make the plot\n",
    "plt.figure(figsize=(10,8))\n",
    "plt.bar(rsm, sm, color='#873600', width=barWidth, edgecolor='white', label='No Fireplace')\n",
    "plt.bar(rbig, big, color='#ff9d00', width=barWidth, edgecolor='white', label='Fireplace')\n",
    " \n",
    "# Add xticks on the middle of the group bars\n",
    "plt.xlabel('Number of Bedrooms', size=20)\n",
    "plt.ylabel('Sale Price (USD)', size=20)\n",
    "plt.xticks([r + barWidth for r in range(7)], ['0', '1', '2', '3', '4', '5', '6'], size=16)\n",
    "plt.yticks(size=16)\n",
    " \n",
    "# Create legend & Show graphic\n",
    "plt.legend(fontsize=18)\n",
    "\n",
    "# Output the figure as an image file.\n",
    "plt.savefig(\"../images/price_vs_bedrooms.png\")\n",
    "plt.show()"
   ]
  },
  {
   "cell_type": "code",
   "execution_count": 48,
   "metadata": {},
   "outputs": [
    {
     "data": {
      "text/plain": [
       "('Fireplaces', 10296.05146495962)"
      ]
     },
     "execution_count": 48,
     "metadata": {},
     "output_type": "execute_result"
    }
   ],
   "source": [
    "# List all of the model coefficients for the linear model with the column name.\n",
    "list(zip(X_train.columns,model_lr.coef_))[12]"
   ]
  },
  {
   "cell_type": "markdown",
   "metadata": {},
   "source": [
    "Fireplace coefficient is 10296. This means that adding a fireplace increases the predicted sale price by over 10k USD."
   ]
  },
  {
   "cell_type": "code",
   "execution_count": null,
   "metadata": {},
   "outputs": [],
   "source": []
  }
 ],
 "metadata": {
  "kernelspec": {
   "display_name": "Python 3",
   "language": "python",
   "name": "python3"
  },
  "language_info": {
   "codemirror_mode": {
    "name": "ipython",
    "version": 3
   },
   "file_extension": ".py",
   "mimetype": "text/x-python",
   "name": "python",
   "nbconvert_exporter": "python",
   "pygments_lexer": "ipython3",
   "version": "3.8.3"
  }
 },
 "nbformat": 4,
 "nbformat_minor": 4
}
